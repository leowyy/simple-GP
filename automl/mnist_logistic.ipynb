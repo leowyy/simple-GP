{
 "cells": [
  {
   "cell_type": "code",
   "execution_count": 1,
   "metadata": {
    "collapsed": true
   },
   "outputs": [],
   "source": [
    "%matplotlib inline"
   ]
  },
  {
   "cell_type": "code",
   "execution_count": 2,
   "metadata": {
    "collapsed": true
   },
   "outputs": [],
   "source": [
    "import time\n",
    "import matplotlib.pyplot as plt\n",
    "import numpy as np\n",
    "import GPy\n",
    "import GPyOpt"
   ]
  },
  {
   "cell_type": "markdown",
   "metadata": {},
   "source": [
    "## Introduction\n",
    "In the following, we tune the hyperparameters for logistic regression on the MNIST dataset. The tuning is performed by Bayesian optimisation. "
   ]
  },
  {
   "cell_type": "markdown",
   "metadata": {},
   "source": [
    "## Import MNIST data"
   ]
  },
  {
   "cell_type": "code",
   "execution_count": 3,
   "metadata": {
    "collapsed": true
   },
   "outputs": [],
   "source": [
    "from sklearn.datasets import fetch_mldata\n",
    "from sklearn.linear_model import LogisticRegression, SGDClassifier\n",
    "from sklearn.utils import check_random_state\n",
    "from sklearn.model_selection import train_test_split\n",
    "from sklearn.preprocessing import StandardScaler"
   ]
  },
  {
   "cell_type": "code",
   "execution_count": 4,
   "metadata": {
    "collapsed": true
   },
   "outputs": [],
   "source": [
    "# Choosing n_iter for SGDClassifier is deprecated but we need it to reproduce our result\n",
    "import warnings\n",
    "warnings.filterwarnings(\"ignore\", category=DeprecationWarning) "
   ]
  },
  {
   "cell_type": "code",
   "execution_count": 5,
   "metadata": {
    "collapsed": true
   },
   "outputs": [],
   "source": [
    "# Load dataset and make sure to shuffle it\n",
    "mnist = fetch_mldata('MNIST original')\n",
    "X = mnist.data.astype('float64')\n",
    "y = mnist.target\n",
    "random_state = check_random_state(0)\n",
    "permutation = random_state.permutation(X.shape[0])\n",
    "X = X[permutation]\n",
    "y = y[permutation]\n",
    "X = X.reshape((X.shape[0], -1))"
   ]
  },
  {
   "cell_type": "code",
   "execution_count": 128,
   "metadata": {},
   "outputs": [
    {
     "name": "stdout",
     "output_type": "stream",
     "text": [
      "Size of data = (70000, 784)\n"
     ]
    }
   ],
   "source": [
    "print(\"Size of data = {}\".format(X.shape))"
   ]
  },
  {
   "cell_type": "code",
   "execution_count": 129,
   "metadata": {
    "collapsed": true
   },
   "outputs": [],
   "source": [
    "train_samples = 5000\n",
    "X_train, X_test, y_train, y_test = train_test_split(\n",
    "    X, y, train_size=train_samples, test_size=10000)\n",
    "\n",
    "scaler = StandardScaler()\n",
    "X_train = scaler.fit_transform(X_train)\n",
    "X_test = scaler.transform(X_test)"
   ]
  },
  {
   "cell_type": "code",
   "execution_count": 130,
   "metadata": {},
   "outputs": [
    {
     "data": {
      "text/plain": [
       "(5000, 784)"
      ]
     },
     "execution_count": 130,
     "metadata": {},
     "output_type": "execute_result"
    }
   ],
   "source": [
    "X_train.shape"
   ]
  },
  {
   "cell_type": "markdown",
   "metadata": {},
   "source": [
    "## Define model and search space"
   ]
  },
  {
   "cell_type": "markdown",
   "metadata": {},
   "source": [
    "Four hyperparameter to tune:\n",
    " 1. Learning rate for SGD $\\in [0,1]$ (log scale)\n",
    " 2. $l_2$ regularisation parameter $\\in [0,1]$\n",
    " 3. Number of learning epochs $\\in [5,2000]$\n",
    " 4. Mini-batch size $\\in [20,2000]$\n",
    " "
   ]
  },
  {
   "cell_type": "code",
   "execution_count": 8,
   "metadata": {
    "collapsed": true
   },
   "outputs": [],
   "source": [
    "def next_batch(X, y, batch_size):\n",
    "    for i in np.arange(0, X.shape[0], batch_size):\n",
    "        yield (X[i:i + batch_size], y[i:i + batch_size])"
   ]
  },
  {
   "cell_type": "code",
   "execution_count": 134,
   "metadata": {
    "collapsed": true
   },
   "outputs": [],
   "source": [
    "classes = np.unique(y)\n",
    "gamma = 0.05                    # learning rate\n",
    "alpha = 50. / train_samples     # l2 regulariser\n",
    "n_iter = 100                    # learning epochs\n",
    "batch_size = 200                # mini batch size\n",
    "\n",
    "clf = SGDClassifier(loss = 'log',\n",
    "                    penalty = 'l2',\n",
    "                    alpha = alpha,\n",
    "                    learning_rate = 'constant',\n",
    "                    eta0 = gamma,\n",
    "                    n_iter = 1)"
   ]
  },
  {
   "cell_type": "code",
   "execution_count": 139,
   "metadata": {},
   "outputs": [
    {
     "name": "stdout",
     "output_type": "stream",
     "text": [
      "Sparsity with L2 penalty: 14.29%\n",
      "Test score with L2 penalty: 0.7825\n",
      "Time elapsed: 14.0815160275\n"
     ]
    }
   ],
   "source": [
    "start = time.time()\n",
    "for i in range(n_iter):\n",
    "    for (X_batch, y_batch) in next_batch(X_train, y_train, batch_size):\n",
    "        clf.partial_fit(X_batch, y_batch, classes=classes)\n",
    "end = time.time()\n",
    "\n",
    "sparsity = np.mean(clf.coef_ == 0) * 100\n",
    "score = clf.score(X_test, y_test)\n",
    "print(\"Sparsity with L2 penalty: %.2f%%\" % sparsity)\n",
    "print(\"Test score with L2 penalty: %.4f\" % score)\n",
    "print(\"Time elapsed: {}\".format(end-start))"
   ]
  },
  {
   "cell_type": "markdown",
   "metadata": {},
   "source": [
    "## Wrapper function for scoring model"
   ]
  },
  {
   "cell_type": "code",
   "execution_count": 177,
   "metadata": {},
   "outputs": [],
   "source": [
    "def fit_svr_val(x):\n",
    "    x = np.atleast_2d(x)\n",
    "    fs = np.zeros((x.shape[0],1))\n",
    "    for i in range(x.shape[0]):\n",
    "        fs[i] = 0\n",
    "        gamma = np.exp(x[i,0]) # log scale\n",
    "        alpha = np.exp(x[i,1]) # log scale\n",
    "        n_iter = int(x[i,2])\n",
    "        batch_size = int(x[i,3])\n",
    "        clf = SGDClassifier(loss='log', penalty='l2', alpha=alpha, \n",
    "                            learning_rate='constant', eta0=gamma, \n",
    "                            n_iter=1)\n",
    "        for j in range(n_iter):\n",
    "            for (X_batch, y_batch) in next_batch(X_train, y_train, batch_size):\n",
    "                clf.partial_fit(X_batch, y_batch, classes=classes)\n",
    "\n",
    "        score = clf.score(X_test, y_test)\n",
    "        fs[i] = 1 - score # classification error\n",
    "    return fs"
   ]
  },
  {
   "cell_type": "code",
   "execution_count": 178,
   "metadata": {},
   "outputs": [
    {
     "name": "stdout",
     "output_type": "stream",
     "text": [
      "[[ 0.1699]]\n",
      "Time elapsed: 14.2131769657\n"
     ]
    }
   ],
   "source": [
    "x = np.array([-2, np.log(50 / train_samples), 100, 200])\n",
    "start = time.time()\n",
    "print(fit_svr_val(x))\n",
    "end = time.time()\n",
    "print(\"Time elapsed: {}\".format(end-start))"
   ]
  },
  {
   "cell_type": "markdown",
   "metadata": {},
   "source": [
    "## Bayesian Optimisation"
   ]
  },
  {
   "cell_type": "code",
   "execution_count": 246,
   "metadata": {
    "collapsed": true
   },
   "outputs": [],
   "source": [
    "opt_iter = 50"
   ]
  },
  {
   "cell_type": "code",
   "execution_count": 247,
   "metadata": {
    "collapsed": true
   },
   "outputs": [],
   "source": [
    "domain =      [{'name': 'gamma_log','type': 'continuous', 'domain': (-6,0)}, \n",
    "               {'name': 'alpha_log','type': 'continuous', 'domain': (-6,0)},\n",
    "               {'name': 'n_iter','type': 'discrete', 'domain': (5,100)},\n",
    "               {'name': 'batch_size','type': 'discrete', 'domain': (20,2000)}]"
   ]
  },
  {
   "cell_type": "code",
   "execution_count": 248,
   "metadata": {},
   "outputs": [],
   "source": [
    "n_dim = len(domain)\n",
    "n_initial = 5 * n_dim\n",
    "bayes_opt = GPyOpt.methods.BayesianOptimization(f = fit_svr_val,                   \n",
    "                                                domain = domain, \n",
    "                                                model_type = 'GP',\n",
    "                                                acquisition_type = 'EI',\n",
    "                                                exact_feval = True,\n",
    "                                                initial_design_numdata = n_initial, \n",
    "                                                initial_design_type = 'random',\n",
    "                                                num_cores = 2)   "
   ]
  },
  {
   "cell_type": "code",
   "execution_count": 249,
   "metadata": {},
   "outputs": [
    {
     "name": "stdout",
     "output_type": "stream",
     "text": [
      "(20, 4)\n"
     ]
    }
   ],
   "source": [
    "X_init = bayes_opt.X\n",
    "Y_init = bayes_opt.Y\n",
    "print(X_init.shape)"
   ]
  },
  {
   "cell_type": "code",
   "execution_count": 250,
   "metadata": {},
   "outputs": [
    {
     "name": "stdout",
     "output_type": "stream",
     "text": [
      "Time elapsed: 884.545397997\n"
     ]
    }
   ],
   "source": [
    "start = time.time()\n",
    "bayes_opt.run_optimization(max_iter = opt_iter)\n",
    "end = time.time()\n",
    "print(\"Time elapsed: {}\".format(end-start))"
   ]
  },
  {
   "cell_type": "code",
   "execution_count": 251,
   "metadata": {},
   "outputs": [
    {
     "data": {
      "image/png": "[encoded data removed]",
      "text/plain": [
       "<matplotlib.figure.Figure at 0x11dd8a250>"
      ]
     },
     "metadata": {},
     "output_type": "display_data"
    }
   ],
   "source": [
    "bayes_opt.plot_convergence()"
   ]
  },
  {
   "cell_type": "code",
   "execution_count": 252,
   "metadata": {},
   "outputs": [
    {
     "name": "stdout",
     "output_type": "stream",
     "text": [
      "[  -6.          -4.5411952  100.          20.       ]\n",
      "[ 0.107]\n"
     ]
    }
   ],
   "source": [
    "min_index = np.argmin(bayes_opt.Y)\n",
    "x_best = bayes_opt.X[min_index,:]\n",
    "y_best = bayes_opt.Y[min_index,:]\n",
    "\n",
    "print(x_best)\n",
    "print(y_best)"
   ]
  },
  {
   "cell_type": "code",
   "execution_count": 253,
   "metadata": {},
   "outputs": [
    {
     "name": "stdout",
     "output_type": "stream",
     "text": [
      "[[ 0.1068]]\n"
     ]
    }
   ],
   "source": [
    "# Test candidate on the true objective\n",
    "print(fit_svr_val(x_best))"
   ]
  },
  {
   "cell_type": "code",
   "execution_count": 254,
   "metadata": {
    "collapsed": true
   },
   "outputs": [],
   "source": [
    "bayes_opt.save_report(\"mnist\")"
   ]
  },
  {
   "cell_type": "markdown",
   "metadata": {},
   "source": [
    "## Compare with random search"
   ]
  },
  {
   "cell_type": "code",
   "execution_count": 255,
   "metadata": {
    "collapsed": true
   },
   "outputs": [],
   "source": [
    "class RandomOptimiser():\n",
    "    def __init__(self, f, domain, X_init, Y_init):\n",
    "        self.f = f\n",
    "        self.domain = domain\n",
    "        self.X = X_init\n",
    "        self.Y = Y_init\n",
    "    def run_optimization(self, n_iters):\n",
    "        from GPyOpt.experiment_design import initial_design\n",
    "        from GPyOpt.util.general import best_value\n",
    "        X_new = initial_design('random', self.domain, n_iters)\n",
    "        Y_new = np.zeros((n_iters))\n",
    "        \n",
    "        assert(self.X.shape[1] == X_new.shape[1])\n",
    "        self.X = np.concatenate((self.X, X_new))\n",
    "        Y_best_global = np.min(self.Y)\n",
    "        \n",
    "        for i in range(n_iters):\n",
    "            X_current = X_new[i,:]\n",
    "            Y_current = self.f(X_current)\n",
    "            if Y_current < Y_best_global:\n",
    "                Y_best_global = Y_current\n",
    "            Y_new[i] = Y_current\n",
    "\n",
    "        self.Y = np.append(self.Y, Y_new)\n",
    "        self.Y_best = best_value(self.Y)"
   ]
  },
  {
   "cell_type": "code",
   "execution_count": 256,
   "metadata": {
    "collapsed": true
   },
   "outputs": [],
   "source": [
    "random_opt = RandomOptimiser(f = fit_svr_val,\n",
    "                             domain = bayes_opt.space, \n",
    "                             X_init = X_init, \n",
    "                             Y_init = Y_init)"
   ]
  },
  {
   "cell_type": "code",
   "execution_count": 257,
   "metadata": {},
   "outputs": [
    {
     "name": "stdout",
     "output_type": "stream",
     "text": [
      "Time elapsed: 831.519360065\n"
     ]
    }
   ],
   "source": [
    "start = time.time()\n",
    "random_opt.run_optimization(n_iters=opt_iter)\n",
    "end = time.time()\n",
    "print(\"Time elapsed: {}\".format(end-start))"
   ]
  },
  {
   "cell_type": "code",
   "execution_count": 258,
   "metadata": {},
   "outputs": [
    {
     "name": "stdout",
     "output_type": "stream",
     "text": [
      "[   -5.91370985    -4.85306212   100.          2000.        ]\n",
      "0.1073\n"
     ]
    }
   ],
   "source": [
    "min_index = np.argmin(random_opt.Y)\n",
    "x_best_random = random_opt.X[min_index,:]\n",
    "y_best_random = random_opt.Y[min_index]\n",
    "\n",
    "print(x_best_random)\n",
    "print(y_best_random)"
   ]
  },
  {
   "cell_type": "code",
   "execution_count": 259,
   "metadata": {},
   "outputs": [
    {
     "data": {
      "text/plain": [
       "array([[ 0.1104]])"
      ]
     },
     "execution_count": 259,
     "metadata": {},
     "output_type": "execute_result"
    }
   ],
   "source": [
    "fit_svr_val(x_best_random)"
   ]
  },
  {
   "cell_type": "code",
   "execution_count": 262,
   "metadata": {},
   "outputs": [
    {
     "data": {
      "text/plain": [
       "<matplotlib.legend.Legend at 0x11df00f10>"
      ]
     },
     "execution_count": 262,
     "metadata": {},
     "output_type": "execute_result"
    },
    {
     "data": {
      "image/png": "[encoded data removed]",
      "text/plain": [
       "<matplotlib.figure.Figure at 0x11dd36dd0>"
      ]
     },
     "metadata": {},
     "output_type": "display_data"
    }
   ],
   "source": [
    "# Initialise plot\n",
    "fig,ax = plt.subplots(1,1, figsize=(8, 6), dpi=100)\n",
    "num_iter_random = len(random_opt.Y) - n_initial\n",
    "num_iter_bayes = len(bayes_opt.Y) - n_initial\n",
    "ax.plot(range(num_iter_random), random_opt.Y_best[n_initial:], '--bs', label='random')\n",
    "ax.plot(range(num_iter_bayes), bayes_opt.Y_best[n_initial:], '--rx', label='bayes_opt')\n",
    "plt.title('Optimisation on logistic regression hyperparameters')\n",
    "plt.ylabel('Validation Error'); plt.xlabel('Function Evaluations');\n",
    "plt.legend()"
   ]
  },
  {
   "cell_type": "code",
   "execution_count": null,
   "metadata": {
    "collapsed": true
   },
   "outputs": [],
   "source": []
  }
 ],
 "metadata": {
  "kernelspec": {
   "display_name": "Python [conda env:py27]",
   "language": "python",
   "name": "conda-env-py27-py"
  },
  "language_info": {
   "codemirror_mode": {
    "name": "ipython",
    "version": 2
   },
   "file_extension": ".py",
   "mimetype": "text/x-python",
   "name": "python",
   "nbconvert_exporter": "python",
   "pygments_lexer": "ipython2",
   "version": "2.7.14"
  }
 },
 "nbformat": 4,
 "nbformat_minor": 2
}

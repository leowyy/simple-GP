{
 "cells": [
  {
   "cell_type": "code",
   "execution_count": 1,
   "metadata": {
    "collapsed": true
   },
   "outputs": [],
   "source": [
    "%matplotlib inline\n",
    "import time\n",
    "import matplotlib.pyplot as plt\n",
    "import numpy as np\n",
    "import GPy\n",
    "import GPyOpt"
   ]
  },
  {
   "cell_type": "markdown",
   "metadata": {},
   "source": [
    "## Introduction\n",
    "\n",
    "In this notebook, we will compare three different methods of hyperparameter tuning: Hyperband, Random Search and Bayesian Optimisation. The comparison is made on the four hyperparameter logistic model from [[Snoek, 2012]](https://papers.nips.cc/paper/4522-practical-bayesian-optimization-of-machine-learning-algorithms.pdf). \n",
    "\n",
    "For more info about Hyperband:\n",
    " - [Hyperband paper](https://arxiv.org/pdf/1603.06560.pdf)\n",
    " - [Useful blog post](https://people.eecs.berkeley.edu/~kjamieson/hyperband.html)\n",
    " - [Combining BayesOpt with Hyperband](https://bayesopt.github.io/papers/2017/36.pdf)"
   ]
  },
  {
   "cell_type": "markdown",
   "metadata": {},
   "source": [
    "## Import MNIST regression problem "
   ]
  },
  {
   "cell_type": "code",
   "execution_count": 2,
   "metadata": {},
   "outputs": [
    {
     "name": "stdout",
     "output_type": "stream",
     "text": [
      "[   {'domain': (-6, 0), 'name': 'gamma_log', 'type': 'continuous'},\n",
      "    {'domain': (-6, 0), 'name': 'alpha_log', 'type': 'continuous'},\n",
      "    {'domain': (5, 1000), 'name': 'n_iter', 'type': 'continuous'},\n",
      "    {'domain': (20, 2000), 'name': 'batch_size', 'type': 'continuous'}]\n"
     ]
    }
   ],
   "source": [
    "from MNIST_problem import *\n",
    "problem = MNIST_problem()\n",
    "problem.print_domain()"
   ]
  },
  {
   "cell_type": "markdown",
   "metadata": {},
   "source": [
    "## Hyperband, Random Search and Bayesian Optimisation"
   ]
  },
  {
   "cell_type": "code",
   "execution_count": null,
   "metadata": {
    "scrolled": true
   },
   "outputs": [],
   "source": [
    "from HyperbandOptimiser import *\n",
    "hyperband_opt = HyperbandOptimiser(problem.f, problem.domain)\n",
    "hyperband_opt.run_optimization(max_iter = 1024, verbosity = True)"
   ]
  },
  {
   "cell_type": "code",
   "execution_count": 4,
   "metadata": {},
   "outputs": [
    {
     "name": "stdout",
     "output_type": "stream",
     "text": [
      "Time budget = 4988.03750872612\n"
     ]
    }
   ],
   "source": [
    "time_budget = hyperband_opt.checkpoints[-1]\n",
    "print(\"Time budget = {}\".format(time_budget))"
   ]
  },
  {
   "cell_type": "code",
   "execution_count": null,
   "metadata": {
    "scrolled": true
   },
   "outputs": [],
   "source": [
    "from RandomOptimiser import *\n",
    "random_opt = RandomOptimiser(problem.f, problem.domain)\n",
    "random_opt.run_optimization(max_time = time_budget, verbosity=True)"
   ]
  },
  {
   "cell_type": "code",
   "execution_count": 6,
   "metadata": {},
   "outputs": [
    {
     "name": "stdout",
     "output_type": "stream",
     "text": [
      "1354.4428300857544\n"
     ]
    }
   ],
   "source": [
    "# Prepare seed for Bayesian Opt based on random design\n",
    "n_initial = 20\n",
    "X_init = random_opt.X[:n_initial,:]\n",
    "Y_init = random_opt.Y[:n_initial,:]\n",
    "time_init = random_opt.checkpoints[n_initial]\n",
    "print(time_init)"
   ]
  },
  {
   "cell_type": "code",
   "execution_count": 7,
   "metadata": {},
   "outputs": [],
   "source": [
    "bayes_opt = GPyOpt.methods.BayesianOptimization(f = problem.f,                   \n",
    "                                                domain = problem.domain, \n",
    "                                                X = X_init,\n",
    "                                                Y = Y_init,\n",
    "                                                model_type = 'GP',\n",
    "                                                acquisition_type = 'EI',\n",
    "                                                exact_feval = True,\n",
    "                                                initial_design_numdata = 0,\n",
    "                                                num_cores = 2)  "
   ]
  },
  {
   "cell_type": "code",
   "execution_count": null,
   "metadata": {},
   "outputs": [],
   "source": [
    "bayes_opt.run_optimization(max_iter = None,  max_time = time_budget-time_init, verbosity = True)"
   ]
  },
  {
   "cell_type": "code",
   "execution_count": 9,
   "metadata": {},
   "outputs": [],
   "source": [
    "# Perform editing on bayes_opt checkpoints to include initial design\n",
    "for i in range(len(bayes_opt.checkpoints)):\n",
    "    bayes_opt.checkpoints[i] += time_init\n",
    "bayes_opt.checkpoints = random_opt.checkpoints[:n_initial] + bayes_opt.checkpoints"
   ]
  },
  {
   "cell_type": "code",
   "execution_count": 10,
   "metadata": {},
   "outputs": [
    {
     "data": {
      "text/plain": [
       "<matplotlib.legend.Legend at 0x10e5359b0>"
      ]
     },
     "execution_count": 10,
     "metadata": {},
     "output_type": "execute_result"
    },
    {
     "data": {
      "image/png": "[encoded data removed]",
      "text/plain": [
       "<matplotlib.figure.Figure at 0x120ab1198>"
      ]
     },
     "metadata": {},
     "output_type": "display_data"
    }
   ],
   "source": [
    "fig, ax = plt.subplots(1,1, figsize=(6, 4), dpi=100)\n",
    "ax.plot(hyperband_opt.checkpoints, hyperband_opt.Y_best, '--bs', label='hyperband_opt')\n",
    "ax.plot(bayes_opt.checkpoints, bayes_opt.Y_best, '--rd', label='bayes_opt')\n",
    "ax.plot(random_opt.checkpoints, random_opt.Y_best, '--kx', label='random_opt')\n",
    "plt.ylabel('Min Validation Error'); plt.xlabel('Time (s)');\n",
    "plt.legend()"
   ]
  },
  {
   "cell_type": "code",
   "execution_count": 11,
   "metadata": {
    "collapsed": true
   },
   "outputs": [],
   "source": [
    "def printOptimalResults(optimiser):\n",
    "    min_index = np.argmin(optimiser.Y)\n",
    "    x_best = optimiser.X[min_index,:]\n",
    "    f_best = optimiser.Y[min_index]\n",
    "    print(x_best)\n",
    "    print(f_best)"
   ]
  },
  {
   "cell_type": "code",
   "execution_count": 12,
   "metadata": {},
   "outputs": [
    {
     "name": "stdout",
     "output_type": "stream",
     "text": [
      "[   -5.79381286    -4.50253884   950.74549155  1955.87246499]\n",
      "[ 0.109]\n"
     ]
    }
   ],
   "source": [
    "printOptimalResults(random_opt)"
   ]
  },
  {
   "cell_type": "code",
   "execution_count": 13,
   "metadata": {},
   "outputs": [
    {
     "name": "stdout",
     "output_type": "stream",
     "text": [
      "[   -6.            -4.81437482   135.08124303  1629.79498667]\n",
      "[ 0.1057]\n"
     ]
    }
   ],
   "source": [
    "printOptimalResults(bayes_opt)"
   ]
  },
  {
   "cell_type": "code",
   "execution_count": 15,
   "metadata": {},
   "outputs": [
    {
     "name": "stdout",
     "output_type": "stream",
     "text": [
      "[   -5.95878044    -5.59769088   256.          1677.60567449]\n",
      "[ 0.1052]\n"
     ]
    }
   ],
   "source": [
    "printOptimalResults(hyperband_opt)"
   ]
  },
  {
   "cell_type": "code",
   "execution_count": null,
   "metadata": {
    "collapsed": true
   },
   "outputs": [],
   "source": []
  }
 ],
 "metadata": {
  "kernelspec": {
   "display_name": "Python 3",
   "language": "python",
   "name": "python3"
  },
  "language_info": {
   "codemirror_mode": {
    "name": "ipython",
    "version": 3
   },
   "file_extension": ".py",
   "mimetype": "text/x-python",
   "name": "python",
   "nbconvert_exporter": "python",
   "pygments_lexer": "ipython3",
   "version": "3.6.2"
  }
 },
 "nbformat": 4,
 "nbformat_minor": 2
}

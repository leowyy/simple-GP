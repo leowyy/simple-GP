{
 "cells": [
  {
   "cell_type": "code",
   "execution_count": 1,
   "metadata": {
    "collapsed": true
   },
   "outputs": [],
   "source": [
    "%matplotlib inline"
   ]
  },
  {
   "cell_type": "code",
   "execution_count": 2,
   "metadata": {
    "collapsed": true
   },
   "outputs": [],
   "source": [
    "import time\n",
    "import matplotlib.pyplot as plt\n",
    "import numpy as np\n",
    "import GPy\n",
    "import GPyOpt"
   ]
  },
  {
   "cell_type": "markdown",
   "metadata": {},
   "source": [
    "## Introduction\n",
    "In the following, we tune the hyperparameters for logistic regression on the MNIST dataset. The tuning is performed by Bayesian optimisation. "
   ]
  },
  {
   "cell_type": "markdown",
   "metadata": {},
   "source": [
    "## Import MNIST data"
   ]
  },
  {
   "cell_type": "code",
   "execution_count": 3,
   "metadata": {
    "collapsed": true
   },
   "outputs": [],
   "source": [
    "from sklearn.datasets import fetch_mldata\n",
    "from sklearn.linear_model import LogisticRegression, SGDClassifier\n",
    "from sklearn.utils import check_random_state\n",
    "from sklearn.model_selection import train_test_split\n",
    "from sklearn.preprocessing import StandardScaler"
   ]
  },
  {
   "cell_type": "code",
   "execution_count": 4,
   "metadata": {
    "collapsed": true
   },
   "outputs": [],
   "source": [
    "# Choosing n_iter for SGDClassifier is deprecated but we need it to reproduce our result\n",
    "import warnings\n",
    "warnings.filterwarnings(\"ignore\", category=DeprecationWarning) "
   ]
  },
  {
   "cell_type": "code",
   "execution_count": 5,
   "metadata": {
    "collapsed": true
   },
   "outputs": [],
   "source": [
    "# Load dataset and make sure to shuffle it\n",
    "mnist = fetch_mldata('MNIST original')\n",
    "X = mnist.data.astype('float64')\n",
    "y = mnist.target\n",
    "random_state = check_random_state(0)\n",
    "permutation = random_state.permutation(X.shape[0])\n",
    "X = X[permutation]\n",
    "y = y[permutation]\n",
    "X = X.reshape((X.shape[0], -1))"
   ]
  },
  {
   "cell_type": "code",
   "execution_count": 128,
   "metadata": {},
   "outputs": [
    {
     "name": "stdout",
     "output_type": "stream",
     "text": [
      "Size of data = (70000, 784)\n"
     ]
    }
   ],
   "source": [
    "print(\"Size of data = {}\".format(X.shape))"
   ]
  },
  {
   "cell_type": "code",
   "execution_count": 129,
   "metadata": {
    "collapsed": true
   },
   "outputs": [],
   "source": [
    "train_samples = 5000\n",
    "X_train, X_test, y_train, y_test = train_test_split(\n",
    "    X, y, train_size=train_samples, test_size=10000)\n",
    "\n",
    "scaler = StandardScaler()\n",
    "X_train = scaler.fit_transform(X_train)\n",
    "X_test = scaler.transform(X_test)"
   ]
  },
  {
   "cell_type": "code",
   "execution_count": 130,
   "metadata": {},
   "outputs": [
    {
     "data": {
      "text/plain": [
       "(5000, 784)"
      ]
     },
     "execution_count": 130,
     "metadata": {},
     "output_type": "execute_result"
    }
   ],
   "source": [
    "X_train.shape"
   ]
  },
  {
   "cell_type": "markdown",
   "metadata": {},
   "source": [
    "## Define model and search space"
   ]
  },
  {
   "cell_type": "markdown",
   "metadata": {},
   "source": [
    "Four hyperparameter to tune:\n",
    " 1. Learning rate for SGD $\\in [0,1]$ (log scale)\n",
    " 2. $l_2$ regularisation parameter $\\in [0,1]$\n",
    " 3. Number of learning epochs $\\in [5,2000]$\n",
    " 4. Mini-batch size $\\in [20,2000]$\n",
    " "
   ]
  },
  {
   "cell_type": "code",
   "execution_count": 8,
   "metadata": {
    "collapsed": true
   },
   "outputs": [],
   "source": [
    "def next_batch(X, y, batch_size):\n",
    "    for i in np.arange(0, X.shape[0], batch_size):\n",
    "        yield (X[i:i + batch_size], y[i:i + batch_size])"
   ]
  },
  {
   "cell_type": "code",
   "execution_count": 134,
   "metadata": {
    "collapsed": true
   },
   "outputs": [],
   "source": [
    "classes = np.unique(y)\n",
    "gamma = 0.05                    # learning rate\n",
    "alpha = 50. / train_samples     # l2 regulariser\n",
    "n_iter = 100                    # learning epochs\n",
    "batch_size = 200                # mini batch size\n",
    "\n",
    "clf = SGDClassifier(loss = 'log',\n",
    "                    penalty = 'l2',\n",
    "                    alpha = alpha,\n",
    "                    learning_rate = 'constant',\n",
    "                    eta0 = gamma,\n",
    "                    n_iter = 1)"
   ]
  },
  {
   "cell_type": "code",
   "execution_count": 139,
   "metadata": {},
   "outputs": [
    {
     "name": "stdout",
     "output_type": "stream",
     "text": [
      "Sparsity with L2 penalty: 14.29%\n",
      "Test score with L2 penalty: 0.7825\n",
      "Time elapsed: 14.0815160275\n"
     ]
    }
   ],
   "source": [
    "start = time.time()\n",
    "for i in range(n_iter):\n",
    "    for (X_batch, y_batch) in next_batch(X_train, y_train, batch_size):\n",
    "        clf.partial_fit(X_batch, y_batch, classes=classes)\n",
    "end = time.time()\n",
    "\n",
    "sparsity = np.mean(clf.coef_ == 0) * 100\n",
    "score = clf.score(X_test, y_test)\n",
    "print(\"Sparsity with L2 penalty: %.2f%%\" % sparsity)\n",
    "print(\"Test score with L2 penalty: %.4f\" % score)\n",
    "print(\"Time elapsed: {}\".format(end-start))"
   ]
  },
  {
   "cell_type": "markdown",
   "metadata": {},
   "source": [
    "## Wrapper function for scoring model"
   ]
  },
  {
   "cell_type": "code",
   "execution_count": 143,
   "metadata": {},
   "outputs": [],
   "source": [
    "def fit_svr_val(x):\n",
    "    x = np.atleast_2d(x)\n",
    "    #fs = np.zeros((x.shape[0],1))\n",
    "    #fs[i] = 0\n",
    "    gamma = np.exp(x[0,0]) # log scale\n",
    "    alpha = np.exp(x[0,1]) # log scale\n",
    "    n_iter = int(x[0,2])\n",
    "    batch_size = int(x[0,3])\n",
    "    clf = SGDClassifier(loss='log', penalty='l2', alpha=alpha, \n",
    "                        learning_rate='constant', eta0=gamma, \n",
    "                        n_iter=1)\n",
    "    for i in range(n_iter):\n",
    "        for (X_batch, y_batch) in next_batch(X_train, y_train, batch_size):\n",
    "            clf.partial_fit(X_batch, y_batch, classes=classes)\n",
    "    #clf.fit(X_train,y_train)\n",
    "    score = clf.score(X_test, y_test)\n",
    "    return 1 - score # classification error"
   ]
  },
  {
   "cell_type": "code",
   "execution_count": 144,
   "metadata": {},
   "outputs": [
    {
     "name": "stdout",
     "output_type": "stream",
     "text": [
      "0.1684\n",
      "Time elapsed: 14.4339849949\n"
     ]
    }
   ],
   "source": [
    "x = np.array([-2, np.log(50 / train_samples), 100, 200])\n",
    "start = time.time()\n",
    "print(fit_svr_val(x))\n",
    "end = time.time()\n",
    "print(\"Time elapsed: {}\".format(end-start))"
   ]
  },
  {
   "cell_type": "markdown",
   "metadata": {},
   "source": [
    "## Bayesian Optimisation"
   ]
  },
  {
   "cell_type": "markdown",
   "metadata": {},
   "source": [
    " - Acquisition type and weight?"
   ]
  },
  {
   "cell_type": "code",
   "execution_count": 147,
   "metadata": {
    "collapsed": true
   },
   "outputs": [],
   "source": [
    "domain =      [{'name': 'gamma_log','type': 'continuous', 'domain': (-6,0)}, \n",
    "               {'name': 'alpha_log','type': 'continuous', 'domain': (-6,0)},\n",
    "               {'name': 'n_iter','type': 'discrete', 'domain': (5,20)},\n",
    "               {'name': 'batch_size','type': 'discrete', 'domain': (20,2000)}]"
   ]
  },
  {
   "cell_type": "code",
   "execution_count": 148,
   "metadata": {},
   "outputs": [
    {
     "name": "stdout",
     "output_type": "stream",
     "text": [
      "Time elapsed: 276.080141783\n"
     ]
    }
   ],
   "source": [
    "start = time.time()\n",
    "n_dim = len(domain)\n",
    "n_initial = 5 * n_dim\n",
    "opt = GPyOpt.methods.BayesianOptimization(f = fit_svr_val,                   \n",
    "                                          domain = domain, \n",
    "                                          model_type = 'GP',\n",
    "                                          acquisition_type = 'EI',\n",
    "                                          exact_feval = True,\n",
    "                                          initial_design_numdata = n_initial, \n",
    "                                          initial_design_type = 'random',\n",
    "                                          num_cores = 2)   \n",
    "opt.run_optimization(max_iter = 50)\n",
    "end = time.time()\n",
    "print(\"Time elapsed: {}\".format(end-start))"
   ]
  },
  {
   "cell_type": "code",
   "execution_count": 149,
   "metadata": {},
   "outputs": [
    {
     "data": {
      "image/png": "[encoded data removed]",
      "text/plain": [
       "<matplotlib.figure.Figure at 0x1152c5890>"
      ]
     },
     "metadata": {},
     "output_type": "display_data"
    }
   ],
   "source": [
    "opt.plot_convergence()"
   ]
  },
  {
   "cell_type": "code",
   "execution_count": 150,
   "metadata": {},
   "outputs": [
    {
     "name": "stdout",
     "output_type": "stream",
     "text": [
      "[ -5.56432376  -4.64643485  20.          20.        ]\n",
      "[ 0.1137]\n"
     ]
    }
   ],
   "source": [
    "min_index = np.argmin(opt.Y)\n",
    "x_best = opt.X[min_index,:]\n",
    "y_best = opt.Y[min_index,:]\n",
    "\n",
    "print(x_best)\n",
    "print(y_best)"
   ]
  },
  {
   "cell_type": "code",
   "execution_count": 151,
   "metadata": {},
   "outputs": [
    {
     "name": "stdout",
     "output_type": "stream",
     "text": [
      "0.1148\n"
     ]
    }
   ],
   "source": [
    "print(fit_svr_val(x_best))"
   ]
  },
  {
   "cell_type": "code",
   "execution_count": 152,
   "metadata": {
    "collapsed": true
   },
   "outputs": [],
   "source": [
    "opt.save_report(\"mnist\")"
   ]
  },
  {
   "cell_type": "markdown",
   "metadata": {},
   "source": [
    "## Compare with random search"
   ]
  },
  {
   "cell_type": "code",
   "execution_count": 153,
   "metadata": {
    "collapsed": true
   },
   "outputs": [],
   "source": [
    "from GPyOpt.experiment_design import initial_design"
   ]
  },
  {
   "cell_type": "code",
   "execution_count": 154,
   "metadata": {
    "collapsed": true
   },
   "outputs": [],
   "source": [
    "n_initial = 70\n",
    "X_random = initial_design('random', opt.space, n_initial)"
   ]
  },
  {
   "cell_type": "code",
   "execution_count": null,
   "metadata": {},
   "outputs": [],
   "source": [
    "y_random_opt = float('inf')\n",
    "#x_history = np.zeros((n_initial, n_dim))\n",
    "y_history = np.zeros((n_initial))\n",
    "y_best_history = np.zeros((n_initial))\n",
    "for i in range(n_initial):\n",
    "    x_current = X_random[i,:]\n",
    "    y_current = fit_svr_val(x_current)\n",
    "    if y_current < y_random_opt:\n",
    "        y_random_opt = y_current\n",
    "        x_random_opt = x_current\n",
    "    y_history[i] = y_current\n",
    "    y_best_history[i] = y_random_opt\n",
    "    \n",
    "print(x_random_opt)\n",
    "print(y_random_opt)"
   ]
  },
  {
   "cell_type": "code",
   "execution_count": null,
   "metadata": {},
   "outputs": [],
   "source": [
    "fit_svr_val(x_random_opt)"
   ]
  },
  {
   "cell_type": "code",
   "execution_count": null,
   "metadata": {
    "collapsed": true
   },
   "outputs": [],
   "source": []
  }
 ],
 "metadata": {
  "kernelspec": {
   "display_name": "Python [conda env:py27]",
   "language": "python",
   "name": "conda-env-py27-py"
  },
  "language_info": {
   "codemirror_mode": {
    "name": "ipython",
    "version": 2
   },
   "file_extension": ".py",
   "mimetype": "text/x-python",
   "name": "python",
   "nbconvert_exporter": "python",
   "pygments_lexer": "ipython2",
   "version": "2.7.14"
  }
 },
 "nbformat": 4,
 "nbformat_minor": 2
}

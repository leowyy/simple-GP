{
 "cells": [
  {
   "cell_type": "code",
   "execution_count": 1,
   "metadata": {
    "collapsed": true
   },
   "outputs": [],
   "source": [
    "%matplotlib inline"
   ]
  },
  {
   "cell_type": "code",
   "execution_count": 2,
   "metadata": {
    "collapsed": true
   },
   "outputs": [],
   "source": [
    "import time\n",
    "import matplotlib.pyplot as plt\n",
    "import numpy as np\n",
    "import GPy\n",
    "import GPyOpt"
   ]
  },
  {
   "cell_type": "markdown",
   "metadata": {},
   "source": [
    "## Introduction\n",
    "Recently, Bayesian optimisation has been successfully applied to the problem of hyperparameter tuning in an effort popularised as AutoML. In the following, we will tune four hyperparameters for a logistic regression model trained on the MNIST dataset. The problem has been chosen from a set of benchmarks often used for hyperparameter tuning. [[Snoek, 2012]](https://papers.nips.cc/paper/4522-practical-bayesian-optimization-of-machine-learning-algorithms.pdf)\n",
    "\n",
    "First, we tune the hyperparameters using __Bayesian optimisation__ with [GPyOpt](https://github.com/SheffieldML/GPyOpt). Subsequently, we conduct a comparison with tuning via __random search__, which has been shown to be surprisingly effective. [[Bergstra, 2012]](http://www.jmlr.org/papers/volume13/bergstra12a/bergstra12a.pdf) The results show that fine tuning with Bayesian optimisation is more effective and incurs little computational overhead. "
   ]
  },
  {
   "cell_type": "markdown",
   "metadata": {},
   "source": [
    "## Import MNIST data"
   ]
  },
  {
   "cell_type": "code",
   "execution_count": 3,
   "metadata": {
    "collapsed": true
   },
   "outputs": [],
   "source": [
    "from sklearn.datasets import fetch_mldata\n",
    "from sklearn.linear_model import LogisticRegression, SGDClassifier\n",
    "from sklearn.utils import check_random_state\n",
    "from sklearn.model_selection import train_test_split\n",
    "from sklearn.preprocessing import StandardScaler"
   ]
  },
  {
   "cell_type": "code",
   "execution_count": 4,
   "metadata": {
    "collapsed": true
   },
   "outputs": [],
   "source": [
    "# Choosing n_iter for SGDClassifier is deprecated but we need it to reproduce our result\n",
    "import warnings\n",
    "warnings.filterwarnings(\"ignore\", category=DeprecationWarning) "
   ]
  },
  {
   "cell_type": "code",
   "execution_count": 5,
   "metadata": {
    "collapsed": true
   },
   "outputs": [],
   "source": [
    "# Load dataset and shuffle it\n",
    "mnist = fetch_mldata('MNIST original')\n",
    "X = mnist.data.astype('float64')\n",
    "y = mnist.target\n",
    "random_state = check_random_state(0)\n",
    "permutation = random_state.permutation(X.shape[0])\n",
    "X = X[permutation]\n",
    "y = y[permutation]\n",
    "X = X.reshape((X.shape[0], -1))"
   ]
  },
  {
   "cell_type": "code",
   "execution_count": 6,
   "metadata": {},
   "outputs": [
    {
     "name": "stdout",
     "output_type": "stream",
     "text": [
      "Size of data = (70000, 784)\n"
     ]
    }
   ],
   "source": [
    "print(\"Size of data = {}\".format(X.shape))"
   ]
  },
  {
   "cell_type": "code",
   "execution_count": 7,
   "metadata": {
    "collapsed": true
   },
   "outputs": [],
   "source": [
    "# Perform a train-test split for validation, \n",
    "# a standard scaler transforms the data in each dimension to zero mean and unit variance \n",
    "train_samples = 5000\n",
    "X_train, X_test, y_train, y_test = train_test_split(\n",
    "    X, y, train_size=train_samples, test_size=10000)\n",
    "\n",
    "scaler = StandardScaler()\n",
    "X_train = scaler.fit_transform(X_train)\n",
    "X_test = scaler.transform(X_test)"
   ]
  },
  {
   "cell_type": "code",
   "execution_count": 8,
   "metadata": {},
   "outputs": [
    {
     "data": {
      "text/plain": [
       "(5000, 784)"
      ]
     },
     "execution_count": 8,
     "metadata": {},
     "output_type": "execute_result"
    }
   ],
   "source": [
    "X_train.shape"
   ]
  },
  {
   "cell_type": "markdown",
   "metadata": {},
   "source": [
    "## Define classification model and search space"
   ]
  },
  {
   "cell_type": "markdown",
   "metadata": {},
   "source": [
    "In the following, we set up our logistic regression model. Note that the model is trained via mini-batch stochastic gradient descent, which is done by using sklearn's `SGDClassifier` and the `partial_fit()` method.\n",
    "\n",
    "We will be tuning the following four hyperparameters:\n",
    " 1. Learning rate for SGD $\\in [0,1]$ (log scale)\n",
    " 2. $l_2$ regularisation parameter $\\in [0,1]$ (log scale)\n",
    " 3. Number of learning epochs $\\in [5,200]$\n",
    " 4. Mini-batch size $\\in [20,2000]$\n",
    " "
   ]
  },
  {
   "cell_type": "code",
   "execution_count": 9,
   "metadata": {
    "collapsed": true
   },
   "outputs": [],
   "source": [
    "def next_batch(X, y, batch_size):\n",
    "    for i in np.arange(0, X.shape[0], batch_size):\n",
    "        yield (X[i:i + batch_size], y[i:i + batch_size])"
   ]
  },
  {
   "cell_type": "code",
   "execution_count": 10,
   "metadata": {
    "collapsed": true
   },
   "outputs": [],
   "source": [
    "classes = np.unique(y)\n",
    "gamma = 0.05                    # learning rate\n",
    "alpha = 50. / train_samples     # l2 regulariser\n",
    "n_iter = 100                    # learning epochs\n",
    "batch_size = 200                # mini batch size\n",
    "\n",
    "clf = SGDClassifier(loss = 'log',\n",
    "                    penalty = 'l2',\n",
    "                    alpha = alpha,\n",
    "                    learning_rate = 'constant',\n",
    "                    eta0 = gamma,\n",
    "                    n_iter = 1)"
   ]
  },
  {
   "cell_type": "code",
   "execution_count": 11,
   "metadata": {},
   "outputs": [
    {
     "name": "stdout",
     "output_type": "stream",
     "text": [
      "Sparsity with L2 penalty: 16.07%\n",
      "Test score with L2 penalty: 0.8247\n",
      "Time elapsed: 17.429856777191162\n"
     ]
    }
   ],
   "source": [
    "start = time.time()\n",
    "for i in range(n_iter):\n",
    "    for (X_batch, y_batch) in next_batch(X_train, y_train, batch_size):\n",
    "        clf.partial_fit(X_batch, y_batch, classes=classes)\n",
    "end = time.time()\n",
    "\n",
    "sparsity = np.mean(clf.coef_ == 0) * 100\n",
    "score = clf.score(X_test, y_test)\n",
    "print(\"Sparsity with L2 penalty: %.2f%%\" % sparsity)\n",
    "print(\"Test score with L2 penalty: %.4f\" % score)\n",
    "print(\"Time elapsed: {}\".format(end-start))"
   ]
  },
  {
   "cell_type": "markdown",
   "metadata": {},
   "source": [
    "## Wrapper function for scoring model\n",
    "In Bayesian optimisation, we treat the objective function as a black box. In the case of hyperparameter tuning, we define the objective function as the validation error of our model given a set of hyperparameters as the input. Here, we choose a random initialisation as our starting benchmark. Note the validation error of 0.16 and training time of 15.7 seconds."
   ]
  },
  {
   "cell_type": "code",
   "execution_count": 12,
   "metadata": {
    "collapsed": true
   },
   "outputs": [],
   "source": [
    "def fit_svr_val(x):\n",
    "    x = np.atleast_2d(x)\n",
    "    fs = np.zeros((x.shape[0],1))\n",
    "    for i in range(x.shape[0]):\n",
    "        fs[i] = 0\n",
    "        gamma = np.exp(x[i,0]) # log scale\n",
    "        alpha = np.exp(x[i,1]) # log scale\n",
    "        n_iter = int(x[i,2])\n",
    "        batch_size = int(x[i,3])\n",
    "        clf = SGDClassifier(loss='log', penalty='l2', alpha=alpha, \n",
    "                            learning_rate='constant', eta0=gamma, \n",
    "                            n_iter=1)\n",
    "        for j in range(n_iter):\n",
    "            for (X_batch, y_batch) in next_batch(X_train, y_train, batch_size):\n",
    "                clf.partial_fit(X_batch, y_batch, classes=classes)\n",
    "\n",
    "        score = clf.score(X_test, y_test)\n",
    "        fs[i] = 1 - score # classification error\n",
    "    return fs"
   ]
  },
  {
   "cell_type": "code",
   "execution_count": 13,
   "metadata": {},
   "outputs": [
    {
     "name": "stdout",
     "output_type": "stream",
     "text": [
      "[[ 0.2529]]\n",
      "Time elapsed: 17.50881290435791\n"
     ]
    }
   ],
   "source": [
    "x = np.array([-2, np.log(50 / train_samples), 100, 200])\n",
    "start = time.time()\n",
    "print(fit_svr_val(x))\n",
    "end = time.time()\n",
    "print(\"Time elapsed: {}\".format(end-start))"
   ]
  },
  {
   "cell_type": "markdown",
   "metadata": {},
   "source": [
    "## Bayesian Optimisation"
   ]
  },
  {
   "cell_type": "markdown",
   "metadata": {},
   "source": [
    "First, we define the number of optimisation iterations. This is the number of function evaluations, ie we will be sampling and training 100 different logistic regression models. Thus, we can expect the process to take roughly 2000 seconds.  \n",
    "\n",
    "Bayesian optimisation requires us to retrain the GP surrogate at every iteration, which incurs a training complexity of $\\mathcal{O}(n^3)$. Hence to reduce the algorithmic overhead, the number of optimisation iterations is typically kept below 300."
   ]
  },
  {
   "cell_type": "code",
   "execution_count": 14,
   "metadata": {
    "collapsed": true
   },
   "outputs": [],
   "source": [
    "opt_iter = 100"
   ]
  },
  {
   "cell_type": "markdown",
   "metadata": {},
   "source": [
    "Second, we set up the domain of the search space. Of the four hyperparameters, two are continuous and two are discrete. Also note that the learning rate and regularisation constant are optimised in the log space."
   ]
  },
  {
   "cell_type": "code",
   "execution_count": 15,
   "metadata": {
    "collapsed": true
   },
   "outputs": [],
   "source": [
    "domain =      [{'name': 'gamma_log','type': 'continuous', 'domain': (-6,0)}, \n",
    "               {'name': 'alpha_log','type': 'continuous', 'domain': (-6,0)},\n",
    "               {'name': 'n_iter','type': 'continuous', 'domain': (5,1000)},\n",
    "               {'name': 'batch_size','type': 'continuous', 'domain': (20,2000)}]"
   ]
  },
  {
   "cell_type": "markdown",
   "metadata": {},
   "source": [
    "Third, we initialise the Bayesian optimiser. We use a GP as our surrogate model and Expected Improvement Criterion as our acquisition function.\n",
    "\n",
    "We also need to choose an initial design of experiments (DoE) to serve as a starting point for the GP surrogate. Here, we initialise a random design consisting of $5D$ points. Other initial design strategies include Sobol sequences or Latin hypercubes."
   ]
  },
  {
   "cell_type": "code",
   "execution_count": 16,
   "metadata": {
    "collapsed": true
   },
   "outputs": [],
   "source": [
    "n_dim = len(domain)\n",
    "n_initial = 5 * n_dim\n",
    "bayes_opt = GPyOpt.methods.BayesianOptimization(f = fit_svr_val,                   \n",
    "                                                domain = domain, \n",
    "                                                model_type = 'GP',\n",
    "                                                acquisition_type = 'EI',\n",
    "                                                exact_feval = True,\n",
    "                                                initial_design_numdata = n_initial, \n",
    "                                                initial_design_type = 'random',\n",
    "                                                num_cores = 2)   "
   ]
  },
  {
   "cell_type": "code",
   "execution_count": 17,
   "metadata": {},
   "outputs": [
    {
     "name": "stdout",
     "output_type": "stream",
     "text": [
      "(20, 4)\n"
     ]
    }
   ],
   "source": [
    "X_init = bayes_opt.X\n",
    "Y_init = bayes_opt.Y\n",
    "print(X_init.shape)"
   ]
  },
  {
   "cell_type": "code",
   "execution_count": 18,
   "metadata": {},
   "outputs": [
    {
     "name": "stdout",
     "output_type": "stream",
     "text": [
      "Time elapsed: 9035.12595486641\n"
     ]
    }
   ],
   "source": [
    "start = time.time()\n",
    "bayes_opt.run_optimization(max_iter = opt_iter)\n",
    "end = time.time()\n",
    "print(\"Time elapsed: {}\".format(end-start))"
   ]
  },
  {
   "cell_type": "code",
   "execution_count": 19,
   "metadata": {},
   "outputs": [
    {
     "data": {
      "image/png": "[encoded data removed]",
      "text/plain": [
       "<matplotlib.figure.Figure at 0x10e821f60>"
      ]
     },
     "metadata": {},
     "output_type": "display_data"
    }
   ],
   "source": [
    "bayes_opt.plot_convergence()"
   ]
  },
  {
   "cell_type": "code",
   "execution_count": 20,
   "metadata": {},
   "outputs": [
    {
     "name": "stdout",
     "output_type": "stream",
     "text": [
      "[  -5.98381988   -4.59864293  570.14706272  727.95382541]\n",
      "[ 0.0997]\n"
     ]
    }
   ],
   "source": [
    "min_index = np.argmin(bayes_opt.Y)\n",
    "x_best = bayes_opt.X[min_index,:]\n",
    "y_best = bayes_opt.Y[min_index,:]\n",
    "\n",
    "print(x_best)\n",
    "print(y_best)"
   ]
  },
  {
   "cell_type": "code",
   "execution_count": 21,
   "metadata": {},
   "outputs": [
    {
     "name": "stdout",
     "output_type": "stream",
     "text": [
      "[[ 0.1012]]\n"
     ]
    }
   ],
   "source": [
    "# Test candidate on the true objective\n",
    "print(fit_svr_val(x_best))"
   ]
  },
  {
   "cell_type": "code",
   "execution_count": 22,
   "metadata": {
    "collapsed": true
   },
   "outputs": [],
   "source": [
    "bayes_opt.save_report(\"mnist\")"
   ]
  },
  {
   "cell_type": "markdown",
   "metadata": {},
   "source": [
    "## Compare with random search"
   ]
  },
  {
   "cell_type": "markdown",
   "metadata": {},
   "source": [
    "In the following, we will compare Bayesian optimisation with a random search strategy. The random search starts off with the same initial design of 20 points. Subsequently, we will run it for the same number of optimisation iterations, in which it randomly samples sets of hyperparameters."
   ]
  },
  {
   "cell_type": "code",
   "execution_count": 23,
   "metadata": {
    "collapsed": true
   },
   "outputs": [],
   "source": [
    "class RandomOptimiser():\n",
    "    def __init__(self, f, domain, X_init, Y_init):\n",
    "        self.f = f\n",
    "        self.domain = domain\n",
    "        self.X = X_init\n",
    "        self.Y = Y_init\n",
    "    def run_optimization(self, n_iters):\n",
    "        from GPyOpt.experiment_design import initial_design\n",
    "        from GPyOpt.util.general import best_value\n",
    "        X_new = initial_design('random', self.domain, n_iters)\n",
    "        Y_new = np.zeros((n_iters))\n",
    "        \n",
    "        assert(self.X.shape[1] == X_new.shape[1])\n",
    "        self.X = np.concatenate((self.X, X_new))\n",
    "        Y_best_global = np.min(self.Y)\n",
    "        \n",
    "        for i in range(n_iters):\n",
    "            X_current = X_new[i,:]\n",
    "            Y_current = self.f(X_current)\n",
    "            if Y_current < Y_best_global:\n",
    "                Y_best_global = Y_current\n",
    "            Y_new[i] = Y_current\n",
    "\n",
    "        self.Y = np.append(self.Y, Y_new)\n",
    "        self.Y_best = best_value(self.Y)"
   ]
  },
  {
   "cell_type": "code",
   "execution_count": 24,
   "metadata": {
    "collapsed": true
   },
   "outputs": [],
   "source": [
    "random_opt = RandomOptimiser(f = fit_svr_val,\n",
    "                             domain = bayes_opt.space, \n",
    "                             X_init = X_init, \n",
    "                             Y_init = Y_init)"
   ]
  },
  {
   "cell_type": "code",
   "execution_count": 25,
   "metadata": {},
   "outputs": [
    {
     "name": "stdout",
     "output_type": "stream",
     "text": [
      "Time elapsed: 7150.847393035889\n"
     ]
    }
   ],
   "source": [
    "start = time.time()\n",
    "random_opt.run_optimization(n_iters=opt_iter)\n",
    "end = time.time()\n",
    "print(\"Time elapsed: {}\".format(end-start))"
   ]
  },
  {
   "cell_type": "code",
   "execution_count": 26,
   "metadata": {},
   "outputs": [
    {
     "name": "stdout",
     "output_type": "stream",
     "text": [
      "[  -5.71477836   -4.59621296  574.3023141   351.07835709]\n",
      "0.1034\n"
     ]
    }
   ],
   "source": [
    "min_index = np.argmin(random_opt.Y)\n",
    "x_best_random = random_opt.X[min_index,:]\n",
    "y_best_random = random_opt.Y[min_index]\n",
    "\n",
    "print(x_best_random)\n",
    "print(y_best_random)"
   ]
  },
  {
   "cell_type": "code",
   "execution_count": 27,
   "metadata": {},
   "outputs": [
    {
     "data": {
      "text/plain": [
       "array([[ 0.1024]])"
      ]
     },
     "execution_count": 27,
     "metadata": {},
     "output_type": "execute_result"
    }
   ],
   "source": [
    "fit_svr_val(x_best_random)"
   ]
  },
  {
   "cell_type": "markdown",
   "metadata": {},
   "source": [
    "## Analysis of results"
   ]
  },
  {
   "cell_type": "markdown",
   "metadata": {},
   "source": [
    "First, we take a look at the initial design of 20 points. Both Bayesian optimisation and random search will continue optimising based on the initial design. Note the best found validation error at the end of the initial stage."
   ]
  },
  {
   "cell_type": "code",
   "execution_count": 28,
   "metadata": {},
   "outputs": [
    {
     "name": "stdout",
     "output_type": "stream",
     "text": [
      "Min validation error from initial design = 0.10860000000000003\n"
     ]
    },
    {
     "data": {
      "image/png": "[encoded data removed]",
      "text/plain": [
       "<matplotlib.figure.Figure at 0x112037940>"
      ]
     },
     "metadata": {},
     "output_type": "display_data"
    }
   ],
   "source": [
    "fig,ax = plt.subplots(1,1, figsize=(6, 4), dpi=100)\n",
    "ax.plot(range(n_initial), random_opt.Y_best[:n_initial], '--bs', label='initial design')\n",
    "plt.title('Initial design iterations')\n",
    "plt.ylabel('Min Validation Error'); plt.xlabel('Function Evaluations');\n",
    "plt.legend()\n",
    "print(\"Min validation error from initial design = {}\".format(np.min(random_opt.Y_best[:n_initial])))"
   ]
  },
  {
   "cell_type": "markdown",
   "metadata": {},
   "source": [
    "Let's look at the optimisation profile for the subsequent iterations after the initial design."
   ]
  },
  {
   "cell_type": "code",
   "execution_count": 29,
   "metadata": {},
   "outputs": [
    {
     "data": {
      "text/plain": [
       "<matplotlib.legend.Legend at 0x1068c3550>"
      ]
     },
     "execution_count": 29,
     "metadata": {},
     "output_type": "execute_result"
    },
    {
     "data": {
      "image/png": "[encoded data removed]",
      "text/plain": [
       "<matplotlib.figure.Figure at 0x111f35898>"
      ]
     },
     "metadata": {},
     "output_type": "display_data"
    }
   ],
   "source": [
    "# Initialise plot\n",
    "fig,ax = plt.subplots(1,1, figsize=(6, 4), dpi=100)\n",
    "num_iter_random = len(random_opt.Y) - n_initial\n",
    "num_iter_bayes = len(bayes_opt.Y) - n_initial\n",
    "ax.plot(range(num_iter_random), random_opt.Y_best[n_initial:], '--bs', label='random')\n",
    "ax.plot(range(num_iter_bayes), bayes_opt.Y_best[n_initial:], '--rx', label='bayes_opt')\n",
    "plt.title('Optimisation on logistic regression hyperparameters')\n",
    "plt.ylabel('Min Validation Error'); plt.xlabel('Function Evaluations');\n",
    "plt.legend()"
   ]
  },
  {
   "cell_type": "markdown",
   "metadata": {},
   "source": [
    "Evidently, Bayesian optimisation manages to reduce the min validation error by fine-tuning the hyperparameters. On the other hand, random search fails to improve on our best candidate from the initial design. \n",
    "\n",
    "Finally, when we compare the execution time of BayesOpt against RandomSearch, we notice in this case that RandomSearch is about 400 seconds slower, probably because it chose a couple of costly designs. In this use-case, the overall algorithmic overhead from using Bayesian optimisation is outweighed by the cost of each function evaluation. "
   ]
  },
  {
   "cell_type": "markdown",
   "metadata": {},
   "source": [
    "## Concluding remarks\n",
    "Using the optimal hyperparameters, we can now train our final classification model."
   ]
  },
  {
   "cell_type": "code",
   "execution_count": 30,
   "metadata": {
    "collapsed": true
   },
   "outputs": [],
   "source": [
    "gamma = np.exp(x_best[0]) # log scale\n",
    "alpha = np.exp(x_best[1]) # log scale\n",
    "n_iter = int(x_best[2])\n",
    "batch_size = int(x_best[3])\n",
    "clf = SGDClassifier(loss='log', penalty='l2', alpha=alpha, \n",
    "                    learning_rate='constant', eta0=gamma, \n",
    "                    n_iter=1)\n",
    "for j in range(n_iter):\n",
    "    for (X_batch, y_batch) in next_batch(X_train, y_train, batch_size):\n",
    "        clf.partial_fit(X_batch, y_batch, classes=classes)"
   ]
  },
  {
   "cell_type": "code",
   "execution_count": 31,
   "metadata": {},
   "outputs": [
    {
     "name": "stdout",
     "output_type": "stream",
     "text": [
      "Optimal hyperparameters = [  -5.98381988   -4.59864293  570.14706272  727.95382541]\n",
      "Final classification error on validation set = 0.10009999999999997\n"
     ]
    }
   ],
   "source": [
    "score = clf.score(X_test, y_test)\n",
    "print(\"Optimal hyperparameters = {}\".format(x_best))\n",
    "print(\"Final classification error on validation set = {}\".format(1-score))"
   ]
  },
  {
   "cell_type": "markdown",
   "metadata": {},
   "source": [
    "Lastly, the results obtained in this notebook compares quite favourably to similar results in the literature which typically achieves a validation error close to 0.07. \n",
    "\n",
    "__Reference__: \n",
    "https://papers.nips.cc/paper/4522-practical-bayesian-optimization-of-machine-learning-algorithms.pdf"
   ]
  },
  {
   "cell_type": "code",
   "execution_count": 32,
   "metadata": {},
   "outputs": [
    {
     "data": {
      "text/html": [
       "<img src=\"img/mnist_paper_results.png\" width=\"500\" height=\"400\"/>"
      ],
      "text/plain": [
       "<IPython.core.display.Image object>"
      ]
     },
     "execution_count": 32,
     "metadata": {},
     "output_type": "execute_result"
    }
   ],
   "source": [
    "from IPython.display import Image\n",
    "from IPython.core.display import HTML \n",
    "Image(url= \"img/mnist_paper_results.png\", width=500, height=400)"
   ]
  },
  {
   "cell_type": "markdown",
   "metadata": {},
   "source": [
    "### Visualising classification vectors for individual digits"
   ]
  },
  {
   "cell_type": "code",
   "execution_count": 33,
   "metadata": {},
   "outputs": [
    {
     "data": {
      "text/plain": [
       "<matplotlib.text.Text at 0x1068f1588>"
      ]
     },
     "execution_count": 33,
     "metadata": {},
     "output_type": "execute_result"
    },
    {
     "data": {
      "image/png": "[encoded data removed]",
      "text/plain": [
       "<matplotlib.figure.Figure at 0x106890470>"
      ]
     },
     "metadata": {},
     "output_type": "display_data"
    }
   ],
   "source": [
    "coef = clf.coef_.copy()\n",
    "plt.figure(figsize=(10, 5))\n",
    "scale = np.abs(coef).max()\n",
    "for i in range(10):\n",
    "    l1_plot = plt.subplot(2, 5, i + 1)\n",
    "    l1_plot.imshow(coef[i].reshape(28, 28), interpolation='nearest',\n",
    "                   cmap=plt.cm.RdBu, vmin=-scale, vmax=scale)\n",
    "    l1_plot.set_xticks(())\n",
    "    l1_plot.set_yticks(())\n",
    "    l1_plot.set_xlabel('Class %i' % i)\n",
    "plt.suptitle('Classification vector for...')"
   ]
  },
  {
   "cell_type": "markdown",
   "metadata": {},
   "source": [
    "## Saving results"
   ]
  },
  {
   "cell_type": "code",
   "execution_count": 34,
   "metadata": {},
   "outputs": [],
   "source": [
    "import pickle\n",
    "with open('mnist.pkl', 'wb') as f:\n",
    "    pickle.dump([bayes_opt.X, bayes_opt.Y, random_opt.X, random_opt.Y, clf], f)"
   ]
  },
  {
   "cell_type": "code",
   "execution_count": null,
   "metadata": {
    "collapsed": true
   },
   "outputs": [],
   "source": []
  }
 ],
 "metadata": {
  "kernelspec": {
   "display_name": "Python 3",
   "language": "python",
   "name": "python3"
  },
  "language_info": {
   "codemirror_mode": {
    "name": "ipython",
    "version": 3
   },
   "file_extension": ".py",
   "mimetype": "text/x-python",
   "name": "python",
   "nbconvert_exporter": "python",
   "pygments_lexer": "ipython3",
   "version": "3.6.2"
  }
 },
 "nbformat": 4,
 "nbformat_minor": 2
}
